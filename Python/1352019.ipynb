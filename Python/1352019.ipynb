{
 "cells": [
  {
   "cell_type": "markdown",
   "metadata": {},
   "source": [
    "# Problem Solving and Programming\n",
    "### Day 15\n",
    "### DATE: 13/5/2019"
   ]
  },
  {
   "cell_type": "markdown",
   "metadata": {},
   "source": [
    "#### day Objectives\n",
    "1. Objective 1\n",
    "2. Objective 2\n",
    "3. Objective 3"
   ]
  },
  {
   "cell_type": "markdown",
   "metadata": {},
   "source": [
    "## Problem 1:\n",
    "##### Problem statement\n",
    "\n",
    "You are given n words. Some words may repeat. For each word, output its number of occurrences. The output order should correspond with the input order of appearance of the word. \n",
    "First line of input contains the total number of words n. Next n lines contain words that need to processed.\n",
    "\n",
    "First line of the output should contain the total number distinct words. Second line of output must contain the frequency of words the same order of their appearance as in the input\n",
    "\n",
    "\n",
    "##### Test Cases\n",
    "\n",
    "Sample Input :  6\n",
    "\n",
    "abcd\n",
    "\n",
    "ijkl\n",
    "\n",
    "abcd\n",
    "\n",
    "pqrs\n",
    "\n",
    "abcd\n",
    "\n",
    "ijkl\n",
    "\n",
    "Sample Output :   3\n",
    "\n",
    "3  2   1\n",
    "\n",
    "##### Program"
   ]
  },
  {
   "cell_type": "code",
   "execution_count": 1,
   "metadata": {},
   "outputs": [
    {
     "name": "stdout",
     "output_type": "stream",
     "text": [
      "Input no of strings6\n",
      "Enter stringabcd\n",
      "Enter stringabcd\n",
      "Enter stringabcd\n",
      "Enter stringpqrs\n",
      "Enter stringijkl\n",
      "Enter stringijkl\n",
      "3\n",
      "3\n",
      "1\n",
      "2\n"
     ]
    }
   ],
   "source": [
    "def read(num):\n",
    "    st=[]\n",
    "    for count in range(0,num):\n",
    "        st.append(input(\"Enter string\"))\n",
    "    return st\n",
    "def dt(st):\n",
    "    k=[]\n",
    "    i=0\n",
    "    for index in range(0,len(st)):\n",
    "        a=st[index]\n",
    "        for count in range(0,len(st)):\n",
    "            if a==st[count] and a not in k:\n",
    "                k.insert(i,a)\n",
    "                i=i+1\n",
    "    return k\n",
    "def freq(st,k):\n",
    "    for count in range (0,len(k)):\n",
    "        f=0\n",
    "        for counter in range (0,len(st)):\n",
    "            if k[count]==st[counter]:\n",
    "                f=f+1\n",
    "        print(f)  \n",
    "num=int(input(\"Input no of strings\"))\n",
    "a= read(num)\n",
    "b=dt(a)\n",
    "print(len(b))\n",
    "freq(a,b)\n"
   ]
  },
  {
   "cell_type": "code",
   "execution_count": null,
   "metadata": {},
   "outputs": [],
   "source": []
  },
  {
   "cell_type": "code",
   "execution_count": null,
   "metadata": {},
   "outputs": [],
   "source": []
  },
  {
   "cell_type": "code",
   "execution_count": null,
   "metadata": {},
   "outputs": [],
   "source": []
  }
 ],
 "metadata": {
  "kernelspec": {
   "display_name": "Python 3",
   "language": "python",
   "name": "python3"
  },
  "language_info": {
   "codemirror_mode": {
    "name": "ipython",
    "version": 3
   },
   "file_extension": ".py",
   "mimetype": "text/x-python",
   "name": "python",
   "nbconvert_exporter": "python",
   "pygments_lexer": "ipython3",
   "version": "3.7.3"
  }
 },
 "nbformat": 4,
 "nbformat_minor": 2
}
