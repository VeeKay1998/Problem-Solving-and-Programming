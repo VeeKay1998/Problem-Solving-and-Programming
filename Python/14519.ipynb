{
 "cells": [
  {
   "cell_type": "markdown",
   "metadata": {},
   "source": [
    "# Problem Solving and Programming\n",
    "### Day 16\n",
    "### DATE: 8/5/2019"
   ]
  },
  {
   "cell_type": "markdown",
   "metadata": {},
   "source": [
    "#### day Objectives\n",
    "1. Objective 1\n",
    "2. Objective 2\n",
    "3. Objective 3"
   ]
  },
  {
   "cell_type": "markdown",
   "metadata": {},
   "source": [
    "## Problem 1:\n",
    "##### Problem statement\n",
    "\n",
    "Define a function to print the sequence of spiral pattern elements for a given N x N matrix\n",
    "\n",
    "##### Test Cases\n",
    "\n",
    "spiralPattern([[1,2,3], [4,5,6], [7,8,9]]) -> 1 2 3 6 9 8 7 4 5\n",
    "\n",
    "\n",
    "\n"
   ]
  },
  {
   "cell_type": "code",
   "execution_count": 12,
   "metadata": {
    "scrolled": true
   },
   "outputs": [
    {
     "name": "stdout",
     "output_type": "stream",
     "text": [
      "1 2 3 6 9 8 7 4 5 "
     ]
    }
   ],
   "source": [
    "def cprint(a,c,lb,ub,q):\n",
    "    for i in range(lb,ub+1,q):\n",
    "        print(a[i][c], end=' ')\n",
    "def rprint(a,r,lb,ub,q):\n",
    "    for i in range(lb,ub+1,q):\n",
    "        print(a[r][i], end=' ')\n",
    "def spiralPattern(a):\n",
    "    rprint(a,0,0,len(a)-1,1)\n",
    "    cprint(a,len(a)-1,1,len(a)-1,1)\n",
    "    rprint(a,len(a)-1,len(a)-2,-2,-1)\n",
    "    cprint(a,0,len(a)-2,0,-1)\n",
    "    rprint(a,len(a)-2,len(a)-3,len(a)-2,1)\n",
    "spiralPattern([[1,2,3], [4,5,6], [7,8,9]])     "
   ]
  },
  {
   "cell_type": "code",
   "execution_count": null,
   "metadata": {},
   "outputs": [],
   "source": []
  }
 ],
 "metadata": {
  "kernelspec": {
   "display_name": "Python 3",
   "language": "python",
   "name": "python3"
  },
  "language_info": {
   "codemirror_mode": {
    "name": "ipython",
    "version": 3
   },
   "file_extension": ".py",
   "mimetype": "text/x-python",
   "name": "python",
   "nbconvert_exporter": "python",
   "pygments_lexer": "ipython3",
   "version": "3.7.3"
  }
 },
 "nbformat": 4,
 "nbformat_minor": 2
}
