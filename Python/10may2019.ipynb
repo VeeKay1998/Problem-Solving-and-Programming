{
 "cells": [
  {
   "cell_type": "markdown",
   "metadata": {},
   "source": [
    "# Problem Solving and Programming\n",
    "### Day 12\n",
    "### DATE: 10/5/2019"
   ]
  },
  {
   "cell_type": "markdown",
   "metadata": {},
   "source": [
    "#### day Objectives\n",
    "1. Objective 1\n",
    "2. Objective 2\n",
    "3. Objective 3"
   ]
  },
  {
   "cell_type": "markdown",
   "metadata": {},
   "source": [
    "## Problem 1:\n",
    "##### Problem statement\n",
    "\n",
    "Procedure to count the number of digits in a given number.\n",
    "\n",
    "##### Test Cases\n",
    " 1. CountDigits(123456) ->  6\n",
    " 2. CountDigits (0) ->  1\n",
    "\n",
    "##### Program"
   ]
  },
  {
   "cell_type": "code",
   "execution_count": 1,
   "metadata": {},
   "outputs": [
    {
     "name": "stdout",
     "output_type": "stream",
     "text": [
      "6\n",
      "1\n"
     ]
    }
   ],
   "source": [
    "def CountDigits(n):\n",
    "    return len(str(n))\n",
    "print(CountDigits(123456))\n",
    "print(CountDigits(0))"
   ]
  },
  {
   "cell_type": "markdown",
   "metadata": {},
   "source": [
    "## Problem 2:\n",
    "##### Problem statement\n",
    "\n",
    "Procedure to check if a given number is a Perfect Number. ( Perfect number is a number for which the sum of all it's divisors is equal to the number itself)\n",
    "\n",
    "##### Test Cases\n",
    "1. IsPerfect(3) -> False\n",
    "2. IsPerfect (6) -> True\n",
    "\n",
    "##### Program"
   ]
  },
  {
   "cell_type": "code",
   "execution_count": 8,
   "metadata": {},
   "outputs": [
    {
     "name": "stdout",
     "output_type": "stream",
     "text": [
      "False\n",
      "True\n"
     ]
    }
   ],
   "source": [
    "def IsPerfect(n):\n",
    "    sum=0\n",
    "    for count in range(1,n):\n",
    "        if n%count==0:\n",
    "            sum=sum+count\n",
    "    if sum!=n:\n",
    "        return False\n",
    "    else:\n",
    "        return True\n",
    "print(IsPerfect(3))\n",
    "print(IsPerfect(6))   "
   ]
  },
  {
   "cell_type": "markdown",
   "metadata": {},
   "source": [
    "## Problem 3:\n",
    "##### Problem statement\n",
    "\n",
    "Procedure to generate the first N perfect numbers\n",
    "\n",
    "##### Test Cases\n",
    "\n",
    "1. GeneratePerfect(2) ->  6   28\n",
    "2. GeneratePerfect (4) ->  6   28   496    8128\n",
    "\n",
    "##### LIMIT\n",
    "\n",
    "Can only print perfect numbers in range [1,1000000000000]\n",
    "\n",
    "##### Program"
   ]
  },
  {
   "cell_type": "code",
   "execution_count": 24,
   "metadata": {},
   "outputs": [
    {
     "name": "stdout",
     "output_type": "stream",
     "text": [
      "[6, 28]\n",
      "[6, 28, 496, 8128]\n"
     ]
    }
   ],
   "source": [
    "def IsPerfect(n):\n",
    "    sum=0\n",
    "    for count in range(1,n):\n",
    "        if n%count==0:\n",
    "            sum=sum+count\n",
    "    if sum==n:\n",
    "        return sum\n",
    "    else:\n",
    "        return 0\n",
    "def GeneratePerfect(n) :\n",
    "    a=[]\n",
    "    i=1\n",
    "    for counter in range(1,1000000000000):\n",
    "        per= IsPerfect(counter)\n",
    "        if per!=0:\n",
    "            a.append(per)\n",
    "            i=i+1\n",
    "        if n==i-1:\n",
    "            break\n",
    "    return a\n",
    "print(GeneratePerfect(2))     \n",
    "print(GeneratePerfect(4))     "
   ]
  },
  {
   "cell_type": "markdown",
   "metadata": {},
   "source": [
    "## Problem 4:\n",
    "##### Problem statement\n",
    "\n",
    "Calculate the power of a number using Recursive method\n",
    "\n",
    "##### Test Cases\n",
    "\n",
    "1. recursivePower(2,3) >> 8\n",
    "\n",
    "##### Program"
   ]
  },
  {
   "cell_type": "code",
   "execution_count": 30,
   "metadata": {},
   "outputs": [
    {
     "data": {
      "text/plain": [
       "8"
      ]
     },
     "execution_count": 30,
     "metadata": {},
     "output_type": "execute_result"
    }
   ],
   "source": [
    "def recursivePower(num,r):\n",
    "    if r==1:\n",
    "        return num\n",
    "    else:\n",
    "        return recursivePower(num,r-1)*num\n",
    "recursivePower(2,3)    "
   ]
  },
  {
   "cell_type": "markdown",
   "metadata": {},
   "source": [
    "## Problem 5:\n",
    "##### Problem statement\n",
    "\n",
    "Genrate the factorial of a number using Recursive Method\n",
    "\n",
    "##### Test Cases\n",
    "\n",
    "1. factorial(5) >>> 120\n",
    "\n",
    "##### Program"
   ]
  },
  {
   "cell_type": "code",
   "execution_count": 31,
   "metadata": {},
   "outputs": [
    {
     "data": {
      "text/plain": [
       "120"
      ]
     },
     "execution_count": 31,
     "metadata": {},
     "output_type": "execute_result"
    }
   ],
   "source": [
    "def factorial(n):\n",
    "    if n==1:\n",
    "        return n\n",
    "    else:\n",
    "        return n*factorial(n-1)\n",
    "factorial(5)    "
   ]
  },
  {
   "cell_type": "markdown",
   "metadata": {},
   "source": [
    "## Problem 6:\n",
    "##### Problem statement\n",
    "\n",
    "Find GCD of 2 numbers\n",
    "\n",
    "##### Test Cases\n",
    "\n",
    "1. GCD(12,39) >>> 3\n",
    "\n",
    "##### Program"
   ]
  },
  {
   "cell_type": "code",
   "execution_count": 32,
   "metadata": {},
   "outputs": [
    {
     "data": {
      "text/plain": [
       "3"
      ]
     },
     "execution_count": 32,
     "metadata": {},
     "output_type": "execute_result"
    }
   ],
   "source": [
    "def GCD(a,b):\n",
    "    if b%a==0:\n",
    "        return a\n",
    "    else:\n",
    "        return GCD(b%a,a)\n",
    "GCD(12,39)"
   ]
  },
  {
   "cell_type": "markdown",
   "metadata": {},
   "source": [
    "## Problem 7:\n",
    "##### Problem statement\n",
    "\n",
    "Genrate Fibanocii Number using Recusion\n",
    "\n",
    "##### Program"
   ]
  },
  {
   "cell_type": "code",
   "execution_count": 52,
   "metadata": {},
   "outputs": [
    {
     "name": "stdout",
     "output_type": "stream",
     "text": [
      "2\n"
     ]
    }
   ],
   "source": [
    "def fibonacci(n1,n2,count):\n",
    "    if count-1>0:\n",
    "        fibonacci(n2,n1+n2,count-1)\n",
    "    else:\n",
    "        print(n2)\n",
    "fibonacci(0,1,3)"
   ]
  },
  {
   "cell_type": "markdown",
   "metadata": {},
   "source": [
    "## Problem 8:\n",
    "##### Problem statement\n",
    "\n",
    "Define a function to merge the characters of two strings alternatively. The remaining charactersof the longer string are printed in the same order at the end.\n",
    "\n",
    "##### Test Cases\n",
    "\n",
    "1. mergeString('abcd', 'abcd') -> 'aabbccdd'\n",
    "2. mergeString('abc', '123456') -> 'a1b2c3456'\n",
    "3. mergeString('0', '123456') -> '0123456'\n",
    "\n",
    "##### Program"
   ]
  },
  {
   "cell_type": "code",
   "execution_count": 21,
   "metadata": {},
   "outputs": [
    {
     "name": "stdout",
     "output_type": "stream",
     "text": [
      "aabbccdd\n",
      "a1b2c3456\n",
      "0 123456\n"
     ]
    }
   ],
   "source": [
    "def mergeString(s1,s2):\n",
    "    k=[]\n",
    "    for count in range (0,len(max(s1,s2))):\n",
    "        k.append(s1[count]+s2[count])\n",
    "    if len(s1)<len(s2):\n",
    "        for count in range (len(s1),len(s2)):\n",
    "            k.append(s2[count])\n",
    "    else:\n",
    "        for count in range (len(s2),len(s1)):\n",
    "            k.append(s1[count])\n",
    "    return listmerge(k)\n",
    "def listmerge(k):\n",
    "    m=\"\"\n",
    "    for count in range(0,len(k)):\n",
    "        m=m+k[count]\n",
    "    return (m)\n",
    "print(mergeString('abcd', 'abcd'))\n",
    "print(mergeString('abc', '123456'))\n",
    "print(mergeString('0',' 123456'))"
   ]
  },
  {
   "cell_type": "markdown",
   "metadata": {},
   "source": [
    "## Problem 9:\n",
    "##### Problem statement\n",
    "\n",
    "Define a function to convert a decimal number to the corresponding binary number\n",
    "\n",
    "##### Test Cases\n",
    "\n",
    "1. decimalToBinary(15) -> 111\n",
    "2. decimalToBinary(1) -> 1\n",
    "\n",
    "##### Program"
   ]
  },
  {
   "cell_type": "code",
   "execution_count": 144,
   "metadata": {},
   "outputs": [
    {
     "name": "stdout",
     "output_type": "stream",
     "text": [
      "1111\n",
      "1\n"
     ]
    }
   ],
   "source": [
    "def decimalToBinary(n):\n",
    "    k=bin(n)\n",
    "    return k.lstrip('-0b')    \n",
    "print(decimalToBinary(15))\n",
    "print(decimalToBinary(1))"
   ]
  }
 ],
 "metadata": {
  "kernelspec": {
   "display_name": "Python 3",
   "language": "python",
   "name": "python3"
  },
  "language_info": {
   "codemirror_mode": {
    "name": "ipython",
    "version": 3
   },
   "file_extension": ".py",
   "mimetype": "text/x-python",
   "name": "python",
   "nbconvert_exporter": "python",
   "pygments_lexer": "ipython3",
   "version": "3.7.3"
  }
 },
 "nbformat": 4,
 "nbformat_minor": 2
}
