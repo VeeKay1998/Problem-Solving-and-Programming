{
 "cells": [
  {
   "cell_type": "markdown",
   "metadata": {},
   "source": [
    "# Problem Solving and Programming\n",
    "### Day 13\n",
    "### DATE: 11/5/2019"
   ]
  },
  {
   "cell_type": "markdown",
   "metadata": {},
   "source": [
    "#### day Objectives\n",
    "1. Objective 1\n",
    "2. Objective 2\n",
    "3. Objective 3"
   ]
  },
  {
   "cell_type": "markdown",
   "metadata": {},
   "source": [
    "## Problem 1:\n",
    "##### Problem statement\n",
    "\n",
    "Define a function to convert a binary number to the corresponding decimal number\n",
    "\n",
    "##### Test Cases\n",
    " \n",
    "1. binaryToDecimal(1100) -> 12\n",
    "2. binaryToDecimal(1010) -> 10\n",
    "3. binaryToDecimal(111000) -> 56\n",
    "\n",
    "##### Program"
   ]
  },
  {
   "cell_type": "code",
   "execution_count": 2,
   "metadata": {},
   "outputs": [
    {
     "name": "stdout",
     "output_type": "stream",
     "text": [
      "12\n",
      "10\n",
      "56\n"
     ]
    }
   ],
   "source": [
    "def binaryToDecimal(n):\n",
    "    temp=str(n)\n",
    "    sum=0\n",
    "    pow=len(temp)-1\n",
    "    for count in range (0,len(temp)):\n",
    "        sum=sum+(int(temp[count]))*2**pow\n",
    "        pow=pow-1\n",
    "    return sum\n",
    "print(binaryToDecimal(1100))\n",
    "print(binaryToDecimal(1010))\n",
    "print(binaryToDecimal(111000))\n"
   ]
  },
  {
   "cell_type": "markdown",
   "metadata": {},
   "source": [
    "## Problem 2:\n",
    "##### Problem statement\n",
    "\n",
    "Define a function to check if a given year is a leap year. Returns a boolean value\n",
    "\n",
    "##### Test Cases\n",
    " \n",
    "1. 2000 -> True\n",
    "2. 1900 -> False\n",
    "3. 2012 -> True\n",
    "4. 2020 -> True\n",
    "5. 0200 -> False\n",
    "\n",
    "\n",
    "##### Program"
   ]
  },
  {
   "cell_type": "code",
   "execution_count": 2,
   "metadata": {},
   "outputs": [
    {
     "name": "stdout",
     "output_type": "stream",
     "text": [
      "True\n",
      "False\n",
      "True\n",
      "True\n",
      "False\n"
     ]
    }
   ],
   "source": [
    "#import calendar\n",
    "def LeapYear(n):\n",
    "    return (n%400==0 or n%100!=0)\n",
    "    #return calendar.isleap(n)\n",
    "print(LeapYear(2000))\n",
    "print(LeapYear(1900))\n",
    "print(LeapYear(2012))\n",
    "print(LeapYear(2020))\n",
    "print(LeapYear(200))"
   ]
  },
  {
   "cell_type": "markdown",
   "metadata": {},
   "source": [
    "## Problem :\n",
    "##### Problem statement\n",
    "\n",
    " Design a Python script to determine the difference in date for given two dates in YYYY:MM:DD format(0 <= YYYY <= 9999, 1 <= MM <= 12, 1 <= DD <= 31) following the leap year rules. Return the total number of days existing between the two dates.\n",
    "\n",
    "##### Test Cases\n",
    " \n",
    "dateDifference('2019:05:10', '2019:05:01') -> 9\n",
    "dateDifference('0003:03:03', '0003:06:06') -> 95\n",
    "##### Program"
   ]
  },
  {
   "cell_type": "code",
   "execution_count": 31,
   "metadata": {},
   "outputs": [
    {
     "name": "stdout",
     "output_type": "stream",
     "text": [
      "95\n",
      "9\n"
     ]
    }
   ],
   "source": [
    "  import calendar\n",
    "def dateDifference(d1,d2):\n",
    "    day=0\n",
    "    if d1[:4:1]==d2[:4:1] and d1[5:7:1]==d2[5:7:1]:\n",
    "        return int(d1[8:10:1])-int(d2[8:10:1])\n",
    "    if d1[:4:1]==d2[:4:1] and d1[5:7:1]!=d2[5:7:1]:\n",
    "        for count in range(int(d1[5:7:1])+1,int(d2[5:7:1])):\n",
    "            day=day+nodmonth(count,int(d1[:4:1]))\n",
    "        return (int(d2[9:10:1])+day+(nodmonth(int(d1[5:7:1]),int(d1[:4:1]))-int(d1[9:10:1])))\n",
    "   \n",
    "        \n",
    "                \n",
    "                \n",
    "def nodmonth(d,y):\n",
    "    if(d==1 or d==3 or d==5 or d==7 or d==8 or d==10 or d==12):\n",
    "        return 31\n",
    "    if(d==4 or d==6 or d==9 or d==11 ):\n",
    "        return 30\n",
    "    if(d==2):\n",
    "        if calendar.isleap(y)==True:\n",
    "            return 29\n",
    "        else:\n",
    "            return 28\n",
    "print(dateDifference('0003:03:03', '0003:06:06'))\n",
    "print(dateDifference('2019:05:10', '2019:05:01'))"
   ]
  }
 ],
 "metadata": {
  "kernelspec": {
   "display_name": "Python 3",
   "language": "python",
   "name": "python3"
  },
  "language_info": {
   "codemirror_mode": {
    "name": "ipython",
    "version": 3
   },
   "file_extension": ".py",
   "mimetype": "text/x-python",
   "name": "python",
   "nbconvert_exporter": "python",
   "pygments_lexer": "ipython3",
   "version": "3.7.3"
  }
 },
 "nbformat": 4,
 "nbformat_minor": 2
}
