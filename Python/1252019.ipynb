{
 "cells": [
  {
   "cell_type": "markdown",
   "metadata": {},
   "source": [
    "# Problem Solving and Programming\n",
    "### Day 14\n",
    "### DATE: 10/5/2019"
   ]
  },
  {
   "cell_type": "markdown",
   "metadata": {},
   "source": [
    "#### day Objectives\n",
    "1. Objective 1\n",
    "2. Objective 2\n",
    "3. Objective 3"
   ]
  },
  {
   "cell_type": "markdown",
   "metadata": {},
   "source": [
    "## Problem 1:\n",
    "##### Problem statement\n",
    "\n",
    "Define a function to find the average of all the outer elements of an N x M matrix.\n",
    "\n",
    "##### Test Cases\n",
    "\n",
    "1. averageOuterMatrix([[1, 2, 3], [4, 5, 6], [7, 8, 9], [10, 11, 12]] -> 4.5\n",
    "\n",
    "##### Program"
   ]
  },
  {
   "cell_type": "code",
   "execution_count": 8,
   "metadata": {},
   "outputs": [
    {
     "data": {
      "text/plain": [
       "6.5"
      ]
     },
     "execution_count": 8,
     "metadata": {},
     "output_type": "execute_result"
    }
   ],
   "source": [
    "def averageOuterMatrix(matrix):\n",
    "    i=len(matrix)\n",
    "    j=len(matrix[0])\n",
    "    sum=0\n",
    "    no=0\n",
    "    for count in range (0,j):\n",
    "        sum=sum+matrix[0][count]\n",
    "        no=no+1\n",
    "    for count in range (1,i):\n",
    "        sum=sum+matrix[count][j-1]\n",
    "        no=no+1\n",
    "    for count in range (0,j-1):\n",
    "        sum=sum+matrix[i-1][count]\n",
    "        no=no+1\n",
    "    for count in range (1,i-1):\n",
    "        sum=sum+matrix[count][0]\n",
    "        no=no+1\n",
    "    return sum/no\n",
    "averageOuterMatrix([[1, 2, 3], [4, 5, 6], [7, 8, 9], [10, 11, 12]])"
   ]
  },
  {
   "cell_type": "markdown",
   "metadata": {},
   "source": [
    "## Problem 2:\n",
    "##### Problem statement\n",
    "\n",
    " Define a function to identity the number of times a substring is repeating in a given string\n",
    "\n",
    "##### Test Cases\n",
    "\n",
    "1. substringCount('str', 'substr') -> 1\n",
    "2. substringCount('1234567891122334455', '3') -> 3\n",
    "3. substringCount('abccddccc', 'cc') -> 3\n",
    "\n",
    "##### Program"
   ]
  },
  {
   "cell_type": "code",
   "execution_count": 16,
   "metadata": {},
   "outputs": [
    {
     "name": "stdout",
     "output_type": "stream",
     "text": [
      "str\n",
      "substr\n"
     ]
    }
   ],
   "source": [
    "def substringCount(s1,s2):\n",
    "    k=''\n",
    "    count=1\n",
    "    if len(s1)<len(s2):\n",
    "        k=s1\n",
    "        s1=s2\n",
    "        s2=k\n",
    "    temp=math.ceil(len(s1)/len(s2))\n",
    "    len\n",
    "    while count<temp:\n",
    "        if s1[count:]\n",
    "substringCount('str', 'substr')   "
   ]
  },
  {
   "cell_type": "markdown",
   "metadata": {},
   "source": [
    "## Problem 3:\n",
    "##### Problem statement\n",
    "\n",
    "You are given n words. Some words may repeat. For each word, output its number of occurrences. The output order should correspond with the input order of appearance of the word. \n",
    "First line of input contains the total number of words n. Next n lines contain words that need to processed.\n",
    "\n",
    "First line of the output should contain the total number distinct words. Second line of output must contain the frequency of words the same order of their appearance as in the input\n",
    "\n",
    "##### Test Cases\n",
    "\n",
    "Sample Input :  6\n",
    "\n",
    "abcd\n",
    "\n",
    "ijkl\n",
    "\n",
    "abcd\n",
    "\n",
    "pqrs\n",
    "\n",
    "abcd\n",
    "\n",
    "ijkl\n",
    "\n",
    "Sample Output :   3\n",
    "\n",
    "3  2   1\n",
    "\n",
    "##### Program"
   ]
  },
  {
   "cell_type": "code",
   "execution_count": 23,
   "metadata": {},
   "outputs": [
    {
     "name": "stdout",
     "output_type": "stream",
     "text": [
      "Input no of strings6\n",
      "Enter stringabcd\n",
      "Enter stringijkl\n",
      "Enter stringabcd\n",
      "Enter stringpqrs\n",
      "Enter stringabcd\n",
      "Enter stringijkl\n",
      "3\n",
      "3\n",
      "2\n",
      "1\n"
     ]
    }
   ],
   "source": [
    "def read(num):\n",
    "    st=[]\n",
    "    for count in range(0,num):\n",
    "        st.append(input(\"Enter string\"))\n",
    "    return st\n",
    "def dt(st):\n",
    "    k=[]\n",
    "    i=0\n",
    "    for index in range(0,len(st)):\n",
    "        a=st[index]\n",
    "        for count in range(0,len(st)):\n",
    "            if a==st[count] and a not in k:\n",
    "                k.insert(i,a)\n",
    "                i=i+1\n",
    "    return k\n",
    "def freq(st,k):\n",
    "    for count in range (0,len(k)):\n",
    "        f=0\n",
    "        for counter in range (0,len(st)):\n",
    "            if k[count]==st[counter]:\n",
    "                f=f+1\n",
    "        print(f)  \n",
    "num=int(input(\"Input no of strings\"))\n",
    "a= read(num)\n",
    "b=dt(a)\n",
    "print(len(b))\n",
    "freq(a,b)\n"
   ]
  }
 ],
 "metadata": {
  "kernelspec": {
   "display_name": "Python 3",
   "language": "python",
   "name": "python3"
  },
  "language_info": {
   "codemirror_mode": {
    "name": "ipython",
    "version": 3
   },
   "file_extension": ".py",
   "mimetype": "text/x-python",
   "name": "python",
   "nbconvert_exporter": "python",
   "pygments_lexer": "ipython3",
   "version": "3.7.3"
  }
 },
 "nbformat": 4,
 "nbformat_minor": 2
}
