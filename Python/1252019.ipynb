{
 "cells": [
  {
   "cell_type": "markdown",
   "metadata": {},
   "source": [
    "# Problem Solving and Programming\n",
    "### Day 14\n",
    "### DATE: 10/5/2019"
   ]
  },
  {
   "cell_type": "markdown",
   "metadata": {},
   "source": [
    "#### day Objectives\n",
    "1. Objective 1\n",
    "2. Objective 2\n",
    "3. Objective 3"
   ]
  },
  {
   "cell_type": "markdown",
   "metadata": {},
   "source": [
    "## Problem 1:\n",
    "##### Problem statement\n",
    "\n",
    "Define a function to find the average of all the outer elements of an N x M matrix.\n",
    "\n",
    "##### Test Cases\n",
    "\n",
    "1. averageOuterMatrix([[1, 2, 3], [4, 5, 6], [7, 8, 9], [10, 11, 12]] -> 4.5\n",
    "\n",
    "##### Program"
   ]
  },
  {
   "cell_type": "code",
   "execution_count": 8,
   "metadata": {},
   "outputs": [
    {
     "data": {
      "text/plain": [
       "6.5"
      ]
     },
     "execution_count": 8,
     "metadata": {},
     "output_type": "execute_result"
    }
   ],
   "source": [
    "def averageOuterMatrix(matrix):\n",
    "    i=len(matrix)\n",
    "    j=len(matrix[0])\n",
    "    sum=0\n",
    "    no=0\n",
    "    for count in range (0,j):\n",
    "        sum=sum+matrix[0][count]\n",
    "        no=no+1\n",
    "    for count in range (1,i):\n",
    "        sum=sum+matrix[count][j-1]\n",
    "        no=no+1\n",
    "    for count in range (0,j-1):\n",
    "        sum=sum+matrix[i-1][count]\n",
    "        no=no+1\n",
    "    for count in range (1,i-1):\n",
    "        sum=sum+matrix[count][0]\n",
    "        no=no+1\n",
    "    return sum/no\n",
    "averageOuterMatrix([[1, 2, 3], [4, 5, 6], [7, 8, 9], [10, 11, 12]])"
   ]
  },
  {
   "cell_type": "markdown",
   "metadata": {},
   "source": [
    "## Problem 2:\n",
    "##### Problem statement\n",
    "\n",
    " Define a function to identity the number of times a substring is repeating in a given string\n",
    "\n",
    "##### Test Cases\n",
    "\n",
    "1. substringCount('str', 'substr') -> 1\n",
    "2. substringCount('1234567891122334455', '3') -> 3\n",
    "3. substringCount('abccddccc', 'cc') -> 3\n",
    "\n",
    "##### Program"
   ]
  },
  {
   "cell_type": "code",
   "execution_count": 16,
   "metadata": {},
   "outputs": [
    {
     "name": "stdout",
     "output_type": "stream",
     "text": [
      "str\n",
      "substr\n"
     ]
    }
   ],
   "source": [
    "def substringCount(s1,s2):\n",
    "    k=''\n",
    "    count=1\n",
    "    if len(s1)<len(s2):\n",
    "        k=s1\n",
    "        s1=s2\n",
    "        s2=k\n",
    "    temp=math.ceil(len(s1)/len(s2))\n",
    "    len\n",
    "    while count<temp:\n",
    "        if s1[count:]\n",
    "substringCount('str', 'substr')   "
   ]
  },
  {
   "cell_type": "markdown",
   "metadata": {},
   "source": []
  }
 ],
 "metadata": {
  "kernelspec": {
   "display_name": "Python 3",
   "language": "python",
   "name": "python3"
  },
  "language_info": {
   "codemirror_mode": {
    "name": "ipython",
    "version": 3
   },
   "file_extension": ".py",
   "mimetype": "text/x-python",
   "name": "python",
   "nbconvert_exporter": "python",
   "pygments_lexer": "ipython3",
   "version": "3.7.3"
  }
 },
 "nbformat": 4,
 "nbformat_minor": 2
}
