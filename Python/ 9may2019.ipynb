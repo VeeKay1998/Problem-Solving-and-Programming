{
 "cells": [
  {
   "cell_type": "markdown",
   "metadata": {},
   "source": [
    "# Problem Solving and Programming\n",
    "\n",
    "\n",
    "### Day 11\n",
    "### DATE: 9/5/2019\n",
    "\n",
    "\n",
    "#### Day Objectives\n",
    " 1. Learn"
   ]
  },
  {
   "cell_type": "markdown",
   "metadata": {},
   "source": [
    "###### Problem 1:\n",
    "\n",
    "##### Problem statement\n",
    " Check that a given number is Odd or Even\n",
    "\n",
    "##### Test Cases\n",
    "1. check(16) >>16 is even\n",
    "2. check(6) >>6 is even\n",
    "3. check(31) >>31 is odd\n",
    "\n",
    "##### Program"
   ]
  },
  {
   "cell_type": "code",
   "execution_count": 12,
   "metadata": {},
   "outputs": [
    {
     "name": "stdout",
     "output_type": "stream",
     "text": [
      "16 is even\n",
      "6 is even\n",
      "31  is odd\n"
     ]
    }
   ],
   "source": [
    "def check(n):\n",
    "    if n%2==0:\n",
    "        print(n ,\"is even\")\n",
    "    else:\n",
    "       print(n,\" is odd\") \n",
    "check(16)\n",
    "check(6)\n",
    "check(31)"
   ]
  },
  {
   "cell_type": "markdown",
   "metadata": {},
   "source": [
    "###### Problem 2:\n",
    "\n",
    "##### Problem statement\n",
    "\n",
    "Given 2 int values, return True if one is negative and one is positive. Except if the parameter \"negative\" is True, then return True only if both are negative.\n",
    "\n",
    "##### Test Cases\n",
    "1. pos_neg(1,-1,False) → True\n",
    "2. pos_neg(-1,1,False) → True\n",
    "3. pos_neg(-4,-5,True) → True\n",
    "4. pos_neg(-1,1,True) → False\n",
    "##### Program"
   ]
  },
  {
   "cell_type": "code",
   "execution_count": 29,
   "metadata": {
    "scrolled": true
   },
   "outputs": [
    {
     "name": "stdout",
     "output_type": "stream",
     "text": [
      "True\n",
      "True\n",
      "True\n",
      "False\n"
     ]
    }
   ],
   "source": [
    "def pos_neg(n1,n2,para):\n",
    "    if (n1<0 and n2>0 and para==False)or(n1>0 and n2<0 and para==False)or(n1<0 and n2<0 and para==True):\n",
    "       print(\"True\")\n",
    "    else:\n",
    "        print(\"False\")\n",
    "pos_neg(1,-1,False)\n",
    "pos_neg(-1,1,False) \n",
    "pos_neg(-4,-5,True)        \n",
    "pos_neg(-1,1,True)"
   ]
  },
  {
   "cell_type": "markdown",
   "metadata": {},
   "source": [
    "###### Problem 3:\n",
    "\n",
    "##### Problem statement\n",
    "\n",
    "Given 2 ints, a and b, return True if one if them is 10 or if their sum is 10.\n",
    "\n",
    "##### Test Cases\n",
    "\n",
    "1. makes10(9, 10) → True\n",
    "2. makes10(9, 9) → False\n",
    "3. makes10(1, 9) → True\n",
    "\n",
    "##### Program"
   ]
  },
  {
   "cell_type": "code",
   "execution_count": 30,
   "metadata": {},
   "outputs": [
    {
     "name": "stdout",
     "output_type": "stream",
     "text": [
      "True\n",
      "False\n",
      "True\n"
     ]
    }
   ],
   "source": [
    "def makes10(a,b):\n",
    "    return (a==10) | (b==10) | (a+b==10)\n",
    "print(makes10(9, 10))\n",
    "print(makes10(9, 9))\n",
    "print(makes10(1, 9)) \n"
   ]
  },
  {
   "cell_type": "markdown",
   "metadata": {},
   "source": [
    "###### Problem 4:\n",
    "\n",
    "##### Problem statement\n",
    "\n",
    "Given an int n, return True if it is within 10 of 100 or 200. Note: abs(num) computes the absolute value of a number.\n",
    "\n",
    "##### Test Cases\n",
    "\n",
    "1. near_hundred(93) → True\n",
    "2. near_hundred(90) → True\n",
    "3. near_hundred(89) → False\n",
    "4. near_hundred(120)→ False\n",
    "5. near_hundred(209)→ True\n",
    "6. near_hundred(191)→ True\n",
    "\n",
    "##### Constrains\n",
    "Given number will be in range [90, 110] OR [190,210]\n",
    "\n",
    "##### Program"
   ]
  },
  {
   "cell_type": "code",
   "execution_count": 36,
   "metadata": {},
   "outputs": [
    {
     "name": "stdout",
     "output_type": "stream",
     "text": [
      "True\n",
      "True\n",
      "False\n",
      "False\n",
      "True\n",
      "True\n"
     ]
    }
   ],
   "source": [
    "def near_hundred(n):\n",
    "    return (n>=90) & (n<=110) | (n>=190) & (n<=210)\n",
    "print(near_hundred(93))\n",
    "print(near_hundred(90))\n",
    "print(near_hundred(89))\n",
    "print(near_hundred(120))\n",
    "print(near_hundred(209))\n",
    "print(near_hundred(191))"
   ]
  },
  {
   "cell_type": "markdown",
   "metadata": {},
   "source": [
    "###### Problem 5:\n",
    "\n",
    "##### Problem statement\n",
    "\n",
    "Create a Random Number Generator as a Procedure which takes the Range(lb, ub) and returns a Random number in the given range\n",
    "\n",
    "##### Program"
   ]
  },
  {
   "cell_type": "code",
   "execution_count": 49,
   "metadata": {},
   "outputs": [
    {
     "name": "stdout",
     "output_type": "stream",
     "text": [
      "74\n"
     ]
    }
   ],
   "source": [
    "import random\n",
    "def randomGenrator(lb,ub):\n",
    "    print(random.randrange(lb+1,ub))\n",
    "randomGenrator(0,100)          "
   ]
  },
  {
   "cell_type": "markdown",
   "metadata": {},
   "source": [
    "###### Problem 6:\n",
    "\n",
    "##### Problem statement\n",
    "\n",
    "Calculate sum of N random numbers\n",
    "\n",
    "##### Constrains\n",
    "\n",
    "Given range is [0,1000000000000000]\n",
    "\n",
    "##### Program"
   ]
  },
  {
   "cell_type": "code",
   "execution_count": 54,
   "metadata": {},
   "outputs": [
    {
     "data": {
      "text/plain": [
       "49936747621"
      ]
     },
     "execution_count": 54,
     "metadata": {},
     "output_type": "execute_result"
    }
   ],
   "source": [
    "import random\n",
    "def sumRandomNumbers (n,lb,ub):\n",
    "    sum,i=1,0\n",
    "    while i<n:\n",
    "        sum=sum+random.randrange(lb+1,ub,1)\n",
    "        i=i+1\n",
    "    return (sum)\n",
    "sumRandomNumbers(100,1,1000000000)\n"
   ]
  },
  {
   "cell_type": "markdown",
   "metadata": {},
   "source": [
    "###### Problem 7:\n",
    "\n",
    "##### Problem statement\n",
    "\n",
    "Perform linear search on unsorted unique numbers and return the index of the parameter else returns -1\n",
    "\n",
    "##### Test Cases\n",
    "\n",
    "1. linearsearch([1,4,8,0,3,5,6],3) >> 4\n",
    "2. linearsearch([15,12,9,6,3,-3],0) >> -1\n",
    "3. linearsearch([321,543,567,789],567) >> 2\n",
    "\n",
    "##### Program"
   ]
  },
  {
   "cell_type": "code",
   "execution_count": 77,
   "metadata": {},
   "outputs": [
    {
     "name": "stdout",
     "output_type": "stream",
     "text": [
      "4\n",
      "-1\n",
      "2\n"
     ]
    }
   ],
   "source": [
    "def linearsearch(n, value):\n",
    "    i=0\n",
    "    while i<(len(n)-1):\n",
    "        if n[i]==value:\n",
    "           return i\n",
    "        i=i+1   \n",
    "     \n",
    "    return -1\n",
    "    \n",
    "print(linearsearch([1,4,8,0,3,5,6],3))\n",
    "print(linearsearch([15,12,9,6,3,-3],0))\n",
    "print(linearsearch([321,543,567,789],567))"
   ]
  },
  {
   "cell_type": "markdown",
   "metadata": {},
   "source": [
    "###### Problem 8:\n",
    "\n",
    "##### Problem statement\n",
    "\n",
    "Evaluate the polynomial\n",
    "f(x)= x^3 + 2 X^2 + 3 X - 10 for x \n",
    "\n",
    "##### Constrains\n",
    "In the range [1, 1000]\n",
    "\n",
    "##### Program"
   ]
  },
  {
   "cell_type": "code",
   "execution_count": 81,
   "metadata": {},
   "outputs": [
    {
     "name": "stdout",
     "output_type": "stream",
     "text": [
      "44\n",
      "1020290\n",
      "1002002990\n"
     ]
    }
   ],
   "source": [
    "def solvepoly(x):\n",
    "    return (x**3+2*x**2+3*x-10)\n",
    "print(solvepoly(3))\n",
    "print(solvepoly(100))\n",
    "print(solvepoly(1000))"
   ]
  },
  {
   "cell_type": "code",
   "execution_count": 95,
   "metadata": {},
   "outputs": [
    {
     "name": "stdout",
     "output_type": "stream",
     "text": [
      "3\n",
      "8\n",
      "100\n"
     ]
    }
   ],
   "source": [
    "def greatest(a,b,c):\n",
    "    if a>b and a>c:\n",
    "        return(a)\n",
    "    if a<b and c<b:\n",
    "        return(b)\n",
    "    if a<c and b<c:\n",
    "        return(c)\n",
    "print(greatest(1,2,3))\n",
    "print(greatest(7,8,6))\n",
    "print(greatest(4,5,100))"
   ]
  },
  {
   "cell_type": "markdown",
   "metadata": {},
   "source": [
    "###### Problem 10:\n",
    "\n",
    "##### Problem statement\n",
    "\n",
    "\n",
    "\n",
    "##### Test Cases\n",
    "\n",
    "1. factorial(5) >> 120\n",
    "2. factorial(6) >> 720\n",
    "\n",
    "##### Program"
   ]
  },
  {
   "cell_type": "code",
   "execution_count": 110,
   "metadata": {},
   "outputs": [
    {
     "name": "stdout",
     "output_type": "stream",
     "text": [
      "120\n",
      "720\n"
     ]
    }
   ],
   "source": [
    "def factorial(n):\n",
    "\toutput=1\n",
    "\twhile n>1:\n",
    "\t\toutput=output*n\n",
    "\t\tn=n-1\n",
    "\treturn output\n",
    "print(factorial(5))\n",
    "print(factorial(6))"
   ]
  },
  {
   "cell_type": "markdown",
   "metadata": {},
   "source": [
    "###### Problem 11:\n",
    "\n",
    "##### Problem statement\n",
    "\n",
    "Design a procedure to determine if a given string is a Palindrome\n",
    "\n",
    "##### Test Cases\n",
    "\n",
    "3. Palindrome(\"racecar\") -> True\n",
    "2. Palindrome(\"raptor\") -> False\n",
    "\n",
    "##### Program"
   ]
  },
  {
   "cell_type": "code",
   "execution_count": 107,
   "metadata": {},
   "outputs": [
    {
     "name": "stdout",
     "output_type": "stream",
     "text": [
      "True\n",
      "False\n"
     ]
    }
   ],
   "source": [
    "def Palindrome(text):\n",
    "    rev=text[::-1]\n",
    "    if rev==text:\n",
    "        return True\n",
    "    else: \n",
    "        return False\n",
    "print(Palindrome(\"racecar\"))\n",
    "print(Palindrome(\"raptor\"))"
   ]
  },
  {
   "cell_type": "markdown",
   "metadata": {},
   "source": [
    "###### Problem 12:\n",
    "\n",
    "##### Problem statement\n",
    "\n",
    "Procedure to generate multiplication tables. \n",
    "\n",
    "      MT(3, 5, 7) -> 3 X 5 = 15\n",
    "\n",
    "                               3 X 6 = 18\n",
    "\n",
    "                               3 X 7 = 21\n",
    "##### Test Cases\n",
    "\n",
    " MT(3, 5, 7) -> 3 X 5 = 15\n",
    "                3 X 6 = 18\n",
    "                3 X 7 = 21\n",
    "\n",
    "##### Program"
   ]
  },
  {
   "cell_type": "code",
   "execution_count": 112,
   "metadata": {},
   "outputs": [
    {
     "name": "stdout",
     "output_type": "stream",
     "text": [
      "3*5=15\n",
      "3*6=18\n",
      "3*7=21\n"
     ]
    }
   ],
   "source": [
    "def MT(table,lb,ub):\n",
    "    while lb<=ub:\n",
    "        print(f\"{table}*{lb}={table*lb}\")\n",
    "        lb=lb+1\n",
    "MT(3,5,7)"
   ]
  },
  {
   "cell_type": "markdown",
   "metadata": {},
   "source": [
    "###### Problem 13:\n",
    "\n",
    "##### Problem statement\n",
    "\n",
    "Procedure to print the list of factors of a given number.\n",
    "\n",
    "##### Test Cases\n",
    "\n",
    "1. FactorList(6)  ->  1 2 3 6\n",
    "2. FactorList (9) ->   1 3 9\n",
    "3. FactorList (19) ->  1  19\n",
    "\n",
    "##### Program"
   ]
  },
  {
   "cell_type": "code",
   "execution_count": 3,
   "metadata": {},
   "outputs": [
    {
     "name": "stdout",
     "output_type": "stream",
     "text": [
      "[1, 2, 3, 6]\n",
      "[1, 3, 9]\n",
      "[1, 19]\n"
     ]
    }
   ],
   "source": [
    "def FactorList(n):\n",
    "    a=[]\n",
    "    lis=0\n",
    "    for count in range(1,n+1):\n",
    "        if n%count==0:\n",
    "            a.append(count)\n",
    "            lis=lis+1\n",
    "    return a        \n",
    "print(FactorList(6))\n",
    "print(FactorList(9))\n",
    "print(FactorList(19))\n"
   ]
  },
  {
   "cell_type": "markdown",
   "metadata": {},
   "source": [
    "###### Problem 14:\n",
    "\n",
    "##### Problem statement\n",
    "\n",
    " Procedure to check if a given number is Prime and returns a Boolean value.\n",
    "\n",
    "         \n",
    "##### Test Cases\n",
    "1. IsPrime(7) -> True\n",
    "\n",
    "2. IsPrime(9) ->  False\n",
    "\n",
    "##### Program"
   ]
  },
  {
   "cell_type": "code",
   "execution_count": 27,
   "metadata": {},
   "outputs": [
    {
     "name": "stdout",
     "output_type": "stream",
     "text": [
      "True\n",
      "False\n"
     ]
    }
   ],
   "source": [
    "def IsPrime(n):\n",
    "    k=0\n",
    "    for count in range (2,n):\n",
    "        if n%count==0:\n",
    "            return False\n",
    "    return True\n",
    "print(IsPrime(7)) \n",
    "print(IsPrime(9)) \n",
    " "
   ]
  }
 ],
 "metadata": {
  "kernelspec": {
   "display_name": "Python 3",
   "language": "python",
   "name": "python3"
  },
  "language_info": {
   "codemirror_mode": {
    "name": "ipython",
    "version": 3
   },
   "file_extension": ".py",
   "mimetype": "text/x-python",
   "name": "python",
   "nbconvert_exporter": "python",
   "pygments_lexer": "ipython3",
   "version": "3.7.3"
  }
 },
 "nbformat": 4,
 "nbformat_minor": 2
}
